{
 "cells": [
  {
   "cell_type": "code",
   "execution_count": null,
   "id": "b7cbc4e2-05e1-42b5-8808-8e6a1203a0f5",
   "metadata": {},
   "outputs": [],
   "source": [
    "#10. Name your file"
   ]
  },
  {
   "cell_type": "code",
   "execution_count": null,
   "id": "142364c6-19fe-4148-a16c-1b3908912108",
   "metadata": {},
   "outputs": [],
   "source": [
    "conversion_rate = 1.2\n",
    "pound = float(input(\"please enter amount in pound :\"))\n",
    "dollars = pound * conversion_rate\n",
    "print(f\" Value in Doller is {do"
   ]
  },
  {
   "cell_type": "code",
   "execution_count": null,
   "id": "613f3585-0c4b-431c-bd90-8ed0708f856f",
   "metadata": {},
   "outputs": [],
   "source": []
  }
 ],
 "metadata": {
  "kernelspec": {
   "display_name": "Python 3 (ipykernel)",
   "language": "python",
   "name": "python3"
  },
  "language_info": {
   "codemirror_mode": {
    "name": "ipython",
    "version": 3
   },
   "file_extension": ".py",
   "mimetype": "text/x-python",
   "name": "python",
   "nbconvert_exporter": "python",
   "pygments_lexer": "ipython3",
   "version": "3.12.7"
  }
 },
 "nbformat": 4,
 "nbformat_minor": 5
}
