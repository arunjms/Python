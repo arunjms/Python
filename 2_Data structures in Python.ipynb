{
 "cells": [
  {
   "cell_type": "markdown",
   "id": "68b9d273-3d27-41bb-ad04-ef464a2f9c55",
   "metadata": {},
   "source": [
    "# Topic list\n"
   ]
  },
  {
   "cell_type": "code",
   "execution_count": null,
   "id": "f87748a0-1b7b-4d07-aad7-c72b40e1326a",
   "metadata": {},
   "outputs": [],
   "source": [
    "#1. Create a list of 5 random numbers and print the list.\n"
   ]
  },
  {
   "cell_type": "code",
   "execution_count": 28,
   "id": "52e3bcac-b3c5-42c2-86cc-47ced36567e8",
   "metadata": {},
   "outputs": [
    {
     "name": "stdout",
     "output_type": "stream",
     "text": [
      "[35, 79, 62, 23, 43]\n"
     ]
    }
   ],
   "source": [
    "import random\n",
    "five_random_number = [random.randint(1, 100) for i in range(5)]\n",
    "print(five_random_number)"
   ]
  },
  {
   "cell_type": "code",
   "execution_count": null,
   "id": "8a45de04-665f-42d5-be6f-b680d81fc398",
   "metadata": {},
   "outputs": [],
   "source": [
    "#Q2. Insert 3 new values into the list and print the updated list.\n"
   ]
  },
  {
   "cell_type": "code",
   "execution_count": null,
   "id": "818e9d71-b471-4635-9ec3-51addb18db4b",
   "metadata": {},
   "outputs": [],
   "source": [
    "five_random_number.extend([random.randint(1, 100) for j in range(3)])\n",
    "print(five_random_number)"
   ]
  },
  {
   "cell_type": "code",
   "execution_count": null,
   "id": "91456a1d-8e06-413e-9212-6fa7f2da1214",
   "metadata": {},
   "outputs": [],
   "source": [
    "#Q3. Use a for loop to print each element in the list.\n"
   ]
  },
  {
   "cell_type": "code",
   "execution_count": 39,
   "id": "a1cfc0e9-340b-4b99-ad45-c0e6add02710",
   "metadata": {},
   "outputs": [
    {
     "name": "stdout",
     "output_type": "stream",
     "text": [
      "element in list\n",
      "35\n",
      "79\n",
      "62\n",
      "23\n",
      "43\n",
      "68\n",
      "71\n",
      "97\n",
      "9\n",
      "56\n",
      "37\n",
      "62\n",
      "92\n",
      "47\n",
      "76\n",
      "59\n",
      "77\n"
     ]
    }
   ],
   "source": [
    "print(\"element in list\")\n",
    "for num in five_random_number:\n",
    "    print(num)"
   ]
  },
  {
   "cell_type": "markdown",
   "id": "a9a46014-1509-4ac4-bb17-9accbf7b13fc",
   "metadata": {},
   "source": [
    "# Topic: Dictionary\n"
   ]
  },
  {
   "cell_type": "code",
   "execution_count": null,
   "id": "a85a8794-22d9-4a99-8760-b661c00edc7e",
   "metadata": {},
   "outputs": [],
   "source": [
    "#Q1. Create a dictionary with keys 'name', 'age', and 'address' and values 'John', 25, and 'New York' respectively\n"
   ]
  },
  {
   "cell_type": "code",
   "execution_count": null,
   "id": "0a684943-bf33-44a2-8fb7-5bdaa7718b91",
   "metadata": {},
   "outputs": [],
   "source": [
    "person = {\"name\": \"John\", \"age\" :25, \"address\": \"New York\"}"
   ]
  },
  {
   "cell_type": "code",
   "execution_count": null,
   "id": "5c68f60a-c766-4820-a174-1035675be6aa",
   "metadata": {},
   "outputs": [],
   "source": [
    "#Q2. Add a new key-value pair to the dictionary with key 'phone' and value '1234567890'."
   ]
  },
  {
   "cell_type": "code",
   "execution_count": 45,
   "id": "89934018-9298-4897-98da-fbfaee6b2461",
   "metadata": {},
   "outputs": [
    {
     "name": "stdout",
     "output_type": "stream",
     "text": [
      "{'name': 'John', 'age': 25, 'address': 'New York', 'phone': 1234567890}\n"
     ]
    }
   ],
   "source": [
    "person = {\"name\": \"John\", \"age\" :25, \"address\": \"New York\"}\n",
    "person[\"phone\"] = 1234567890\n",
    "print(person)"
   ]
  },
  {
   "cell_type": "markdown",
   "id": "4cd0e5ff-f0ed-4c3c-b3d4-e99ecd349989",
   "metadata": {},
   "source": [
    "# Topic: Set\n"
   ]
  },
  {
   "cell_type": "code",
   "execution_count": null,
   "id": "905cd98d-ddd1-4c5c-9379-26869236aec7",
   "metadata": {},
   "outputs": [],
   "source": [
    "#Q1.Create a set with values 1, 2, 3, 4, and 5."
   ]
  },
  {
   "cell_type": "code",
   "execution_count": 46,
   "id": "d165bee3-b674-4c85-93d9-a34c43119ef6",
   "metadata": {},
   "outputs": [
    {
     "name": "stdout",
     "output_type": "stream",
     "text": [
      "<class 'set'>\n"
     ]
    }
   ],
   "source": [
    "set_numbers = {1,2,3,4,5}\n",
    "print(type(set_numbers))"
   ]
  },
  {
   "cell_type": "code",
   "execution_count": null,
   "id": "2c0f75cb-2d85-4fc7-89bb-227eac988c10",
   "metadata": {},
   "outputs": [],
   "source": [
    "#Q2. Add the value 6 to the set."
   ]
  },
  {
   "cell_type": "code",
   "execution_count": 49,
   "id": "8f14a365-1519-43a1-b33b-b3f3f8f7c1f5",
   "metadata": {},
   "outputs": [
    {
     "name": "stdout",
     "output_type": "stream",
     "text": [
      "{1, 2, 3, 4, 5, 6}\n"
     ]
    }
   ],
   "source": [
    "set_numbers = {1,2,3,4,5}\n",
    "set_numbers.add(6)\n",
    "print(set_numbers)"
   ]
  },
  {
   "cell_type": "code",
   "execution_count": null,
   "id": "6f63aa21-2b9f-43a9-bbed-fdf11907c3a7",
   "metadata": {},
   "outputs": [],
   "source": [
    "# Q3. Remove the value 3 from the set."
   ]
  },
  {
   "cell_type": "code",
   "execution_count": 51,
   "id": "76322426-0ea3-42a1-b8fd-f7b1538866ba",
   "metadata": {},
   "outputs": [
    {
     "name": "stdout",
     "output_type": "stream",
     "text": [
      "{1, 2, 4, 5, 6}\n"
     ]
    }
   ],
   "source": [
    "set_numbers = {1,2,3,4,5}\n",
    "set_numbers.add(6)\n",
    "set_numbers.remove(3)\n",
    "print(set_numbers)"
   ]
  },
  {
   "cell_type": "markdown",
   "id": "cf097d07-a6dc-42a8-bdf2-2a5e4b296ea6",
   "metadata": {},
   "source": [
    "# Topic: Tuple\n"
   ]
  },
  {
   "cell_type": "code",
   "execution_count": 52,
   "id": "acbabb8c-9729-403d-a247-f98640f11633",
   "metadata": {},
   "outputs": [],
   "source": [
    "# Q1. Create a tuple with values (1, 2, 3, 4).\n"
   ]
  },
  {
   "cell_type": "code",
   "execution_count": 55,
   "id": "bc10c467-42b6-4d5a-ba06-ffa9a4191603",
   "metadata": {},
   "outputs": [
    {
     "name": "stdout",
     "output_type": "stream",
     "text": [
      "<class 'tuple'>\n",
      "4\n"
     ]
    }
   ],
   "source": [
    "tuple_numbers = (1,2,3,4)\n",
    "print(type(tuple_numbers))\n",
    "print(len(tuple_numbers))"
   ]
  },
  {
   "cell_type": "code",
   "execution_count": null,
   "id": "f6f0049b-f59e-4806-a276-5a7b0622ddb9",
   "metadata": {},
   "outputs": [],
   "source": [
    "#Q2. Print the length of the tuple."
   ]
  },
  {
   "cell_type": "code",
   "execution_count": 56,
   "id": "ae8c0509-484e-4ff7-ab01-b527835b8491",
   "metadata": {},
   "outputs": [
    {
     "name": "stdout",
     "output_type": "stream",
     "text": [
      "4\n"
     ]
    }
   ],
   "source": [
    "tuple_numbers = (1,2,3,4)\n",
    "\n",
    "print(len(tuple_numbers))"
   ]
  },
  {
   "cell_type": "code",
   "execution_count": null,
   "id": "2071893a-2c53-4ca4-aec7-e6a4b8f16c4b",
   "metadata": {},
   "outputs": [],
   "source": []
  },
  {
   "cell_type": "code",
   "execution_count": null,
   "id": "7455d41b-59e2-47d2-8d0d-aea9b9fd2761",
   "metadata": {},
   "outputs": [],
   "source": []
  },
  {
   "cell_type": "code",
   "execution_count": null,
   "id": "13d10122-d9dd-47da-b818-e849ee08a52d",
   "metadata": {},
   "outputs": [],
   "source": []
  },
  {
   "cell_type": "code",
   "execution_count": null,
   "id": "a47bc793-fd39-47b4-a8f6-6351442b1900",
   "metadata": {},
   "outputs": [],
   "source": []
  },
  {
   "cell_type": "code",
   "execution_count": null,
   "id": "445ff381-96ab-47b2-bf1e-4a3f74cb3080",
   "metadata": {},
   "outputs": [],
   "source": []
  },
  {
   "cell_type": "code",
   "execution_count": null,
   "id": "000b62be-f1c3-40fc-aed1-61bf80616ccd",
   "metadata": {},
   "outputs": [],
   "source": []
  }
 ],
 "metadata": {
  "kernelspec": {
   "display_name": "Python 3 (ipykernel)",
   "language": "python",
   "name": "python3"
  },
  "language_info": {
   "codemirror_mode": {
    "name": "ipython",
    "version": 3
   },
   "file_extension": ".py",
   "mimetype": "text/x-python",
   "name": "python",
   "nbconvert_exporter": "python",
   "pygments_lexer": "ipython3",
   "version": "3.12.7"
  }
 },
 "nbformat": 4,
 "nbformat_minor": 5
}
