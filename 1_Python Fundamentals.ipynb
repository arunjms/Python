{
 "cells": [
  {
   "cell_type": "code",
   "execution_count": null,
   "id": "bb63b610-4b12-4f72-9aef-ea7c2db9ce88",
   "metadata": {},
   "outputs": [],
   "source": [
    "1. Write Python code that prints your name, student number and email address."
   ]
  },
  {
   "cell_type": "code",
   "execution_count": 4,
   "id": "aa1926fd-3dcf-4902-8b1a-8be381545d72",
   "metadata": {},
   "outputs": [
    {
     "name": "stdout",
     "output_type": "stream",
     "text": [
      "Arun James\n",
      "190001\n",
      "arunjames@gmail.com\n"
     ]
    }
   ],
   "source": [
    "print(\"Arun James\")\n",
    "print(190001)\n",
    "print(\"arunjames@gmail.com\")"
   ]
  },
  {
   "cell_type": "code",
   "execution_count": null,
   "id": "dba99428-e2f7-45c2-8190-0ed2526bf8de",
   "metadata": {},
   "outputs": [],
   "source": [
    "2. Write Python code that prints your name, student number, and email address using escape sequences"
   ]
  },
  {
   "cell_type": "code",
   "execution_count": 6,
   "id": "da0e2d45-8011-48fe-af86-c7ba7f9f6911",
   "metadata": {},
   "outputs": [
    {
     "name": "stdout",
     "output_type": "stream",
     "text": [
      "Arun James \n",
      " 190001 \n",
      " arunjames@gmail.com\n"
     ]
    }
   ],
   "source": [
    "print(\"Arun James \\n 190001 \\n arunjames@gmail.com\")"
   ]
  },
  {
   "cell_type": "code",
   "execution_count": null,
   "id": "efd5f169-00da-494f-8fab-1390da2a4d35",
   "metadata": {},
   "outputs": [],
   "source": [
    "3.Write Python code that adds, subtracts, multiplies, and divides the two numbers 14 and 7."
   ]
  },
  {
   "cell_type": "code",
   "execution_count": 8,
   "id": "212a6ff9-ea3d-4c9a-a617-9785ccef210a",
   "metadata": {},
   "outputs": [
    {
     "data": {
      "text/plain": [
       "21"
      ]
     },
     "execution_count": 8,
     "metadata": {},
     "output_type": "execute_result"
    }
   ],
   "source": [
    "14 + 7 \n",
    " \n"
   ]
  },
  {
   "cell_type": "code",
   "execution_count": 11,
   "id": "987cd6b4-e930-4d8c-9b1a-ce2bd73c5a7a",
   "metadata": {},
   "outputs": [
    {
     "data": {
      "text/plain": [
       "98"
      ]
     },
     "execution_count": 11,
     "metadata": {},
     "output_type": "execute_result"
    }
   ],
   "source": [
    "14 * 7\n",
    "\n"
   ]
  },
  {
   "cell_type": "code",
   "execution_count": 12,
   "id": "78632e79-bc1f-44c6-9d04-199906316aa8",
   "metadata": {},
   "outputs": [
    {
     "data": {
      "text/plain": [
       "7"
      ]
     },
     "execution_count": 12,
     "metadata": {},
     "output_type": "execute_result"
    }
   ],
   "source": [
    "\n",
    "14 - 7\n"
   ]
  },
  {
   "cell_type": "code",
   "execution_count": 13,
   "id": "e39ba04e-0aa5-47c0-82e9-46a0dcc7d72a",
   "metadata": {},
   "outputs": [
    {
     "data": {
      "text/plain": [
       "2.0"
      ]
     },
     "execution_count": 13,
     "metadata": {},
     "output_type": "execute_result"
    }
   ],
   "source": [
    "\n",
    "14 / 7\n"
   ]
  },
  {
   "cell_type": "code",
   "execution_count": null,
   "id": "ae86e00a-384a-4471-bc54-054cb56d594c",
   "metadata": {},
   "outputs": [],
   "source": [
    "4.  Write Python code that displays the numbers from 1 to 5 as steps"
   ]
  },
  {
   "cell_type": "code",
   "execution_count": 19,
   "id": "2681f849-1570-4872-934c-ec0ca1eab9b0",
   "metadata": {},
   "outputs": [
    {
     "name": "stdout",
     "output_type": "stream",
     "text": [
      "1\n",
      "2\n",
      "3\n",
      "4\n",
      "5\n"
     ]
    }
   ],
   "source": [
    "for i in range (1,6):\n",
    "    print (i)"
   ]
  },
  {
   "cell_type": "code",
   "execution_count": null,
   "id": "c1d3fda3-0576-481a-9815-0d997ab297e5",
   "metadata": {},
   "outputs": [],
   "source": [
    "5.Write Python code that outputs the following sentence (including the quotation marks and line break) to the screen:"
   ]
  },
  {
   "cell_type": "code",
   "execution_count": 23,
   "id": "e9c1d39e-0de6-4113-9ebb-70e256616eac",
   "metadata": {},
   "outputs": [
    {
     "name": "stdout",
     "output_type": "stream",
     "text": [
      "SDK\" stands for \"Software Development Kit\", whereas \"IDE\" stands for \"Integrated Development Environment\n"
     ]
    }
   ],
   "source": [
    "print('SDK\" stands for \"Software Development Kit\", whereas \"IDE\" stands for \"Integrated Development Environment')"
   ]
  },
  {
   "cell_type": "code",
   "execution_count": null,
   "id": "22b53aac-8c05-44c0-8c70-ef09246caf5f",
   "metadata": {},
   "outputs": [],
   "source": [
    "#6. Practice and check the output print(\"python is an \\\"awesome\\\" language.\") print(\"python\\n\\t2023\") print('I\\'m from Entri.\\b') print(\"\\65\") print(\"\\x65\") print(\"Entri\", \"2023\", sep=\"\\n\") print(\"Entri\", \"2023\", sep=\"\\b\") print(\"Entri\", \"2023\", sep=\"*\", end=\"\\b\\b\\b\\b\")"
   ]
  },
  {
   "cell_type": "code",
   "execution_count": 24,
   "id": "95b550b3-8a04-4b8a-b7d5-5c3cfe9ce1d4",
   "metadata": {},
   "outputs": [
    {
     "name": "stdout",
     "output_type": "stream",
     "text": [
      "python is an \"awesome\" language.\n"
     ]
    }
   ],
   "source": [
    "print(\"python is an \\\"awesome\\\" language.\")"
   ]
  },
  {
   "cell_type": "code",
   "execution_count": 25,
   "id": "91677934-2446-4f16-b02d-6be3c09e6f5f",
   "metadata": {},
   "outputs": [
    {
     "name": "stdout",
     "output_type": "stream",
     "text": [
      "python\n",
      "\t2023\n"
     ]
    }
   ],
   "source": [
    "print(\"python\\n\\t2023\")"
   ]
  },
  {
   "cell_type": "code",
   "execution_count": 26,
   "id": "ba148316-e7a6-495d-a412-1e5bb8a6d509",
   "metadata": {},
   "outputs": [
    {
     "name": "stdout",
     "output_type": "stream",
     "text": [
      "I'm from Entri\n"
     ]
    }
   ],
   "source": [
    "print('I\\'m from Entri.\\b')"
   ]
  },
  {
   "cell_type": "code",
   "execution_count": 32,
   "id": "c92135e0-73fd-484e-914c-01cee0511fa6",
   "metadata": {},
   "outputs": [
    {
     "name": "stdout",
     "output_type": "stream",
     "text": [
      "5\n"
     ]
    }
   ],
   "source": [
    "print(\"\\65\")"
   ]
  },
  {
   "cell_type": "code",
   "execution_count": 33,
   "id": "d1a71ca6-247a-4d31-a636-2fb6829cafad",
   "metadata": {},
   "outputs": [
    {
     "name": "stdout",
     "output_type": "stream",
     "text": [
      "e\n"
     ]
    }
   ],
   "source": [
    "print(\"\\x65\")"
   ]
  },
  {
   "cell_type": "code",
   "execution_count": 29,
   "id": "1b2d9577-f4f8-41e4-ac66-4a5227ebe90c",
   "metadata": {},
   "outputs": [
    {
     "name": "stdout",
     "output_type": "stream",
     "text": [
      "Entri\n",
      "2023\n"
     ]
    }
   ],
   "source": [
    "print(\"Entri\", \"2023\", sep=\"\\n\") "
   ]
  },
  {
   "cell_type": "code",
   "execution_count": 30,
   "id": "2fa65f9a-d7b9-4011-99c2-e7c4ed6fd69a",
   "metadata": {},
   "outputs": [
    {
     "name": "stdout",
     "output_type": "stream",
     "text": [
      "Entr2023\n"
     ]
    }
   ],
   "source": [
    "print(\"Entri\", \"2023\", sep=\"\\b\")"
   ]
  },
  {
   "cell_type": "code",
   "execution_count": 31,
   "id": "1968fed4-1716-48a9-b9ad-30925e6301e5",
   "metadata": {},
   "outputs": [
    {
     "name": "stdout",
     "output_type": "stream",
     "text": [
      "Entri*"
     ]
    }
   ],
   "source": [
    " print(\"Entri\", \"2023\", sep=\"*\", end=\"\\b\\b\\b\\b\")"
   ]
  },
  {
   "cell_type": "code",
   "execution_count": null,
   "id": "15c59518-8c04-48b4-9ae9-52a6f00edf86",
   "metadata": {},
   "outputs": [],
   "source": [
    "#7. Define the variables below. Print the types of each variable. What is the sum of your variables? (Hint: use a type conversion function.) What datatype is the sum? num=23 textnum=\"57\" decimal=98.3 Exercise"
   ]
  },
  {
   "cell_type": "code",
   "execution_count": 35,
   "id": "9eec2d2c-a09c-489e-9256-b4312b3a7fe5",
   "metadata": {},
   "outputs": [
    {
     "name": "stdout",
     "output_type": "stream",
     "text": [
      "<class 'int'> <class 'str'> <class 'float'>\n"
     ]
    }
   ],
   "source": [
    "num = 23\n",
    "\n",
    "textnum = \"57\"\n",
    "\n",
    "decimal = 98.3\n",
    "\n",
    "print(type(num), type(textnum), type(decimal))"
   ]
  },
  {
   "cell_type": "code",
   "execution_count": 36,
   "id": "eb1e9989-59d1-40b0-9468-fab256240cd9",
   "metadata": {},
   "outputs": [],
   "source": [
    "#8.calculate the number of minutes in a year using variables for each unit of time. print a statement that describes what your code does also. Create three variables to store no of days in a year, minute in a hour, hours in a day, then calculate the total minutes in a year and print the values (hint) total number of minutes in an year =No.of days in an year * Hours in a day * Minutes in an hour\n"
   ]
  },
  {
   "cell_type": "code",
   "execution_count": 38,
   "id": "7a1c33b2-20f4-4cad-9853-c01db7046ac7",
   "metadata": {},
   "outputs": [],
   "source": [
    "days_in_year = 365\n",
    "hours_in_day = 24\n",
    "minutes_in_hour = 60\n",
    "\n",
    "total_min = days_in_year * hours_in_day * minutes_in_hour"
   ]
  },
  {
   "cell_type": "code",
   "execution_count": 39,
   "id": "9a982a88-5c7a-49a1-84c6-bcc04042a6ea",
   "metadata": {},
   "outputs": [
    {
     "name": "stdout",
     "output_type": "stream",
     "text": [
      "525600\n"
     ]
    }
   ],
   "source": [
    "print (total_min)"
   ]
  },
  {
   "cell_type": "code",
   "execution_count": 45,
   "id": "b1c2457e-d88e-46e9-92c6-0d02a451e35f",
   "metadata": {},
   "outputs": [
    {
     "name": "stdout",
     "output_type": "stream",
     "text": [
      "365 days * 24 hours  * 60 min = 525600 min\n"
     ]
    }
   ],
   "source": [
    "print(f\"{days_in_year} days * {hours_in_day} hours  * {minutes_in_hour} min = {total_min} min\")"
   ]
  },
  {
   "cell_type": "code",
   "execution_count": null,
   "id": "eb89ef20-cc04-49de-985e-fe3e57b8ad5e",
   "metadata": {},
   "outputs": [],
   "source": [
    "#9.Write Python code that asks the user to enter his/her name and then outputs a greeting including their name."
   ]
  },
  {
   "cell_type": "code",
   "execution_count": 47,
   "id": "8919cf4d-d59a-4ad5-b3ef-7f8a97d06909",
   "metadata": {},
   "outputs": [
    {
     "name": "stdin",
     "output_type": "stream",
     "text": [
      "what is your name? Arun James\n"
     ]
    }
   ],
   "source": [
    "x = input(\"what is your name?\")"
   ]
  },
  {
   "cell_type": "code",
   "execution_count": 48,
   "id": "16c41c10-c088-4e06-940c-c938d3275404",
   "metadata": {},
   "outputs": [
    {
     "name": "stdout",
     "output_type": "stream",
     "text": [
      " Welcome to Python programming Arun James\n"
     ]
    }
   ],
   "source": [
    "print (f\" Welcome to Python programming {x}\")"
   ]
  },
  {
   "cell_type": "code",
   "execution_count": null,
   "id": "eaaa8ace-46e2-4562-abad-7c36b163a5e0",
   "metadata": {},
   "outputs": [],
   "source": [
    "# 10  Name your file: PoundsToDollars.py Write a program that asks the user to enter an amount in pounds (£) and the program calculates and converts an amount in dollar ($) An example runs of the program: Please enter amount in pounds: XXX £ XXX are $ XXX"
   ]
  },
  {
   "cell_type": "code",
   "execution_count": null,
   "id": "8e73dc6d-c905-48d2-8c53-5abc5cf53617",
   "metadata": {},
   "outputs": [],
   "source": []
  },
  {
   "cell_type": "code",
   "execution_count": null,
   "id": "5d64a065-7a52-460b-af79-29f29a2df730",
   "metadata": {},
   "outputs": [],
   "source": []
  },
  {
   "cell_type": "code",
   "execution_count": null,
   "id": "6e7dbcb1-4e29-4fde-b0e4-701364add87e",
   "metadata": {},
   "outputs": [],
   "source": []
  }
 ],
 "metadata": {
  "kernelspec": {
   "display_name": "Python 3 (ipykernel)",
   "language": "python",
   "name": "python3"
  },
  "language_info": {
   "codemirror_mode": {
    "name": "ipython",
    "version": 3
   },
   "file_extension": ".py",
   "mimetype": "text/x-python",
   "name": "python",
   "nbconvert_exporter": "python",
   "pygments_lexer": "ipython3",
   "version": "3.12.7"
  }
 },
 "nbformat": 4,
 "nbformat_minor": 5
}
