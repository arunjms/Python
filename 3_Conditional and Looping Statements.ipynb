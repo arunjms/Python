{
 "cells": [
  {
   "cell_type": "markdown",
   "id": "7687279a-5fbf-46b4-864c-add2e77ca209",
   "metadata": {},
   "source": [
    "# 3_Conditional and Looping Statements"
   ]
  },
  {
   "cell_type": "code",
   "execution_count": null,
   "id": "4b93b5d4-b3db-4896-9aab-3186aa4c0f2b",
   "metadata": {},
   "outputs": [],
   "source": [
    "## Exercise 1: MonthNames.py\n",
    "Write a program that reads an integer value between 1 and 12 from the user and prints the corresponding month of the year.\n"
   ]
  },
  {
   "cell_type": "code",
   "execution_count": 10,
   "id": "54a47f76-818c-4bd0-9494-b4006295c293",
   "metadata": {},
   "outputs": [
    {
     "name": "stdin",
     "output_type": "stream",
     "text": [
      "Enter a number from 1 to 12 2\n"
     ]
    },
    {
     "name": "stdout",
     "output_type": "stream",
     "text": [
      "Month 2 is February\n"
     ]
    }
   ],
   "source": [
    "month = [\"January\", \"February\", \"March\", \"April\", \"May\", \"June\",\n",
    "   \"July\", \"August\", \"September\", \"October\", \"November\", \"December\"]\n",
    "\n",
    "n = int(input(\"Enter a number from 1 to 12\"))\n",
    "if 1<= n <=12:\n",
    "    print(f\"Month {n} is {month[n-1]}\") \n",
    "else:\n",
    "    print(\"Invalid input. Please enter a number between 1 and 12.\")"
   ]
  },
  {
   "cell_type": "code",
   "execution_count": null,
   "id": "8a379a66-78f5-4741-b219-76d2734752f5",
   "metadata": {},
   "outputs": [],
   "source": []
  },
  {
   "cell_type": "code",
   "execution_count": 11,
   "id": "67548901-2edb-48c5-ab0e-45c581705148",
   "metadata": {},
   "outputs": [],
   "source": [
    "# Exercise 2: Cinema Ticket Pricing\n",
    "A cinema sells tickets at different prices based on age.\n",
    "People under 16 pay half price, and people 60 or older pay a third of the price."
   ]
  },
  {
   "cell_type": "code",
   "execution_count": 15,
   "id": "13da04e1-bc17-414b-8259-f656793e5e41",
   "metadata": {},
   "outputs": [
    {
     "name": "stdin",
     "output_type": "stream",
     "text": [
      "Enter the age 25\n"
     ]
    },
    {
     "name": "stdout",
     "output_type": "stream",
     "text": [
      "your Ticket price is  : $6\n"
     ]
    }
   ],
   "source": [
    "age = int(input(\"Enter the age\"))\n",
    "\n",
    "if age <16:\n",
    "    ticket_price = 6 / 2\n",
    "elif age >= 60:\n",
    "    ticket_price = 6 / 3\n",
    "else:\n",
    "    ticket_price = 6\n",
    "\n",
    "print(f\"your Ticket price is  : ${ticket_price}\")\n",
    "    "
   ]
  },
  {
   "cell_type": "code",
   "execution_count": null,
   "id": "28295de9-9be5-466b-9742-1d2fae6367f3",
   "metadata": {},
   "outputs": [],
   "source": []
  },
  {
   "cell_type": "code",
   "execution_count": null,
   "id": "c0ac8bb4-585b-46cf-a006-4de8624652e2",
   "metadata": {},
   "outputs": [],
   "source": [
    "## Exercise 3: BodyMassIndex.py\n",
    "Calculate BMI and categorize weight status based on international BMI categories."
   ]
  },
  {
   "cell_type": "code",
   "execution_count": 16,
   "id": "3b786cf2-0c4a-4726-ad4e-f993e93317f7",
   "metadata": {},
   "outputs": [
    {
     "name": "stdin",
     "output_type": "stream",
     "text": [
      "Enter your weight in (kg):  12\n",
      "Enter your height in (m):  9\n"
     ]
    },
    {
     "name": "stdout",
     "output_type": "stream",
     "text": [
      "Your BMI is: 0.15\n",
      "You are in the \"Underweight\" range.\n"
     ]
    }
   ],
   "source": [
    "weight = float(input(\"Enter your weight in (kg): \"))\n",
    "height = float(input(\"Enter your height in (m): \"))\n",
    "\n",
    "bmi = weight / (height ** 2)\n",
    "print(f\"Your BMI is: {bmi:.2f}\")\n",
    "\n",
    "if bmi < 18.5:\n",
    "    status = \"Underweight\"\n",
    "elif 18.5 <= bmi < 25:\n",
    "    status = \"Normal\"\n",
    "elif 25 <= bmi < 30:\n",
    "    status = \"Overweight\"\n",
    "else:\n",
    "    status = \"Obese\"\n",
    "\n",
    "print(f\"You are in the \\\"{status}\\\" range.\")\n"
   ]
  },
  {
   "cell_type": "code",
   "execution_count": null,
   "id": "d09bd94c-2f7a-483f-a663-02e43336c24b",
   "metadata": {},
   "outputs": [],
   "source": []
  },
  {
   "cell_type": "code",
   "execution_count": null,
   "id": "acfeec16-b01b-456a-a194-e54ef5b47403",
   "metadata": {},
   "outputs": [],
   "source": [
    "## Exercise 4: Greatest of Three Numbers\n",
    "Write a Python program to receive 3 numbers from the user and print the greatest among them."
   ]
  },
  {
   "cell_type": "code",
   "execution_count": 24,
   "id": "e1080fcc-0d4b-49ba-b512-dd3ebf799507",
   "metadata": {},
   "outputs": [
    {
     "name": "stdin",
     "output_type": "stream",
     "text": [
      "Enter first number:  4\n",
      "Enter second number:  5\n",
      "Enter third number:  7\n"
     ]
    },
    {
     "name": "stdout",
     "output_type": "stream",
     "text": [
      " Amoung the 3 numbers 7.0 is the greatest\n"
     ]
    }
   ],
   "source": [
    "n1 = float(input(\"Enter first number: \"))\n",
    "n2 = float(input(\"Enter second number: \"))\n",
    "n3 = float(input(\"Enter third number: \"))\n",
    "\n",
    "if n1> n2 and n1>n3:\n",
    "    print(F\" Amoung the 3 numbers {n1} is the greatest\")\n",
    "elif n2 >n1 and n2 > n3:\n",
    "    print(F\" Amoung the 3 numbers {n2} is the greatest\")\n",
    "else:\n",
    "    print(F\" Amoung the 3 numbers {n3} is the greatest\")"
   ]
  },
  {
   "cell_type": "code",
   "execution_count": null,
   "id": "5ca486ae-bfe9-486d-97b5-20fa8cdc8580",
   "metadata": {},
   "outputs": [],
   "source": []
  },
  {
   "cell_type": "code",
   "execution_count": null,
   "id": "501133e9-81c5-4c14-ab7f-ae0d6022c0bd",
   "metadata": {},
   "outputs": [],
   "source": [
    "## Exercise 5: Factorial Using Loops\n",
    "Find the factorial of a given number using a loop."
   ]
  },
  {
   "cell_type": "code",
   "execution_count": 30,
   "id": "4ecac1e0-582b-4207-9691-c326596ddd0e",
   "metadata": {},
   "outputs": [
    {
     "name": "stdin",
     "output_type": "stream",
     "text": [
      "enter the number to find the factorial 3\n"
     ]
    },
    {
     "name": "stdout",
     "output_type": "stream",
     "text": [
      "6\n"
     ]
    }
   ],
   "source": [
    "num = int(input(\"enter the number to find the factorial\"))\n",
    "x = 1\n",
    "for i in range (1,num+1):\n",
    "          x *=i\n",
    "print (x)"
   ]
  },
  {
   "cell_type": "code",
   "execution_count": null,
   "id": "36aa1ba0-bbed-4152-bdcd-93572a6085c0",
   "metadata": {},
   "outputs": [],
   "source": []
  },
  {
   "cell_type": "code",
   "execution_count": null,
   "id": "ed554500-9f3a-48c3-a5a0-ccfd25a4d12c",
   "metadata": {},
   "outputs": [],
   "source": [
    "## Exercise 7: Finding Multiples of a Number\n",
    "Write a program that finds and prints multiples of a given number."
   ]
  },
  {
   "cell_type": "code",
   "execution_count": 33,
   "id": "f2f4acfa-48c9-4565-bbb6-0eb225b98fb9",
   "metadata": {},
   "outputs": [
    {
     "name": "stdin",
     "output_type": "stream",
     "text": [
      "enter the number 7\n",
      "How many multiples do you want to see?  10\n"
     ]
    },
    {
     "name": "stdout",
     "output_type": "stream",
     "text": [
      "7         14         21         28         35         42         49         56         63         70         "
     ]
    }
   ],
   "source": [
    "num = int(input(\"enter the number\"))\n",
    "count = int(input(\"How many multiples do you want to see? \"))\n",
    "for i in range(1,count+1):\n",
    "    print(num*i,end=\"         \")"
   ]
  },
  {
   "cell_type": "code",
   "execution_count": null,
   "id": "24e25bab-01e3-4351-8a62-85a22337c505",
   "metadata": {},
   "outputs": [],
   "source": []
  },
  {
   "cell_type": "code",
   "execution_count": null,
   "id": "8d6e3e78-b96d-4520-82e7-75d79c80a62a",
   "metadata": {},
   "outputs": [],
   "source": [
    "## Exercise 8: Print and Break on 'done'\n",
    "Write a program to print the inputted value as it is and break the loop if the value is 'done'."
   ]
  },
  {
   "cell_type": "code",
   "execution_count": null,
   "id": "9f02c8dc-a8ee-4696-a75e-dfdab3c77ab0",
   "metadata": {},
   "outputs": [],
   "source": [
    "while True:\n",
    "    user_input = input(\"Enter text: \")\n",
    "    if user_input.lower() == 'done':\n",
    "        print(\"Done\")\n",
    "        break\n",
    "    else:\n",
    "        print(user_input)\n"
   ]
  },
  {
   "cell_type": "code",
   "execution_count": null,
   "id": "f0b5b537-17d4-466a-b454-5fab7d1a8c42",
   "metadata": {},
   "outputs": [],
   "source": []
  },
  {
   "cell_type": "code",
   "execution_count": null,
   "id": "0227f3a4-bd8c-4349-968e-dbb8cc81ff73",
   "metadata": {},
   "outputs": [],
   "source": [
    "## Exercise 9: FizzBuzz\n",
    "Write a program that prints numbers from 1 to 10.\n",
    "For multiples of 3, print \"Fizz\".\n",
    "For multiples of 5, print \"Buzz\".\n",
    "For multiples of both 3 and 5, print \"FizzBuzz\"."
   ]
  },
  {
   "cell_type": "code",
   "execution_count": null,
   "id": "2fe02e8b-be43-4031-bce0-b8e77011f45a",
   "metadata": {},
   "outputs": [],
   "source": [
    "for i in range(1, 11):\n",
    "    if i % 3 == 0 and i % 5 == 0:\n",
    "        print(\"FizzBuzz\")\n",
    "    elif i % 3 == 0:\n",
    "        print(\"Fizz\")\n",
    "    elif i % 5 == 0:\n",
    "        print(\"Buzz\")\n",
    "    else:\n",
    "        print(i)"
   ]
  },
  {
   "cell_type": "code",
   "execution_count": null,
   "id": "76eac07f-6a44-42b5-ac95-1cada06c76ec",
   "metadata": {},
   "outputs": [],
   "source": []
  },
  {
   "cell_type": "code",
   "execution_count": null,
   "id": "70831ae2-1983-4f7a-acee-d7fc733bcb41",
   "metadata": {},
   "outputs": [],
   "source": [
    "## Exercise 10: Print a Pattern\n",
    "Write a program to print the following pattern:\n",
    "5 4 3 2 1\n",
    "4 3 2 1\n",
    "3 2 1\n",
    "2 1\n",
    "1"
   ]
  },
  {
   "cell_type": "code",
   "execution_count": null,
   "id": "e64b081a-b76b-4c1e-b84e-95ff2b4c841f",
   "metadata": {},
   "outputs": [],
   "source": [
    "for i in range(5,0,-1):\n",
    "    for j in range(i,0,-1):\n",
    "        print(j,end=\" \")\n",
    "    print()\n"
   ]
  },
  {
   "cell_type": "code",
   "execution_count": null,
   "id": "d5942329-8ef0-4782-b4fb-f25d4bb5d692",
   "metadata": {},
   "outputs": [],
   "source": []
  },
  {
   "cell_type": "code",
   "execution_count": null,
   "id": "61965eaf-395d-44d1-9964-318e8980591d",
   "metadata": {},
   "outputs": [],
   "source": []
  },
  {
   "cell_type": "code",
   "execution_count": null,
   "id": "73b48b25-95e8-4bb1-a19f-bbdd73af1efd",
   "metadata": {},
   "outputs": [],
   "source": []
  },
  {
   "cell_type": "code",
   "execution_count": null,
   "id": "889d4c3f-3ad3-48e6-8816-8cf1f3622995",
   "metadata": {},
   "outputs": [],
   "source": []
  },
  {
   "cell_type": "code",
   "execution_count": null,
   "id": "48e2df47-018e-4057-a186-4c2e194edf6d",
   "metadata": {},
   "outputs": [],
   "source": []
  },
  {
   "cell_type": "code",
   "execution_count": null,
   "id": "b88365ed-145b-4b37-8203-ffc6ea73e31a",
   "metadata": {},
   "outputs": [],
   "source": []
  },
  {
   "cell_type": "code",
   "execution_count": null,
   "id": "903e36a8-d8e8-4b11-a6a3-bd054ca82e93",
   "metadata": {},
   "outputs": [],
   "source": []
  },
  {
   "cell_type": "code",
   "execution_count": null,
   "id": "d6379d1b-7fa1-4f6c-84ca-3054286648af",
   "metadata": {},
   "outputs": [],
   "source": []
  }
 ],
 "metadata": {
  "kernelspec": {
   "display_name": "Python 3 (ipykernel)",
   "language": "python",
   "name": "python3"
  },
  "language_info": {
   "codemirror_mode": {
    "name": "ipython",
    "version": 3
   },
   "file_extension": ".py",
   "mimetype": "text/x-python",
   "name": "python",
   "nbconvert_exporter": "python",
   "pygments_lexer": "ipython3",
   "version": "3.12.7"
  }
 },
 "nbformat": 4,
 "nbformat_minor": 5
}
