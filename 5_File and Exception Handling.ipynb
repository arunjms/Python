{
 "cells": [
  {
   "cell_type": "code",
   "execution_count": null,
   "id": "d75a58e8-38e8-4de6-9ddc-2fd6bc67a911",
   "metadata": {},
   "outputs": [],
   "source": [
    "## Exercise 1: Read a File\n"
   ]
  },
  {
   "cell_type": "code",
   "execution_count": null,
   "id": "12826b1e-a721-4b92-808c-009f68f53ef8",
   "metadata": {},
   "outputs": [],
   "source": [
    "with open('input.txt', 'r') as file:\n",
    "    contents = file.read()\n",
    "    print(contents)"
   ]
  },
  {
   "cell_type": "code",
   "execution_count": null,
   "id": "6162e19c-9c5a-4a40-8f1a-2a59c2322b1c",
   "metadata": {},
   "outputs": [],
   "source": []
  },
  {
   "cell_type": "code",
   "execution_count": null,
   "id": "38780fd1-6c3f-4069-8b16-7ada872cb4ac",
   "metadata": {},
   "outputs": [],
   "source": [
    "## Exercise 2: Copy File Contents\n"
   ]
  },
  {
   "cell_type": "code",
   "execution_count": null,
   "id": "946997a6-5ee0-4a28-8fed-9ba0f9311be6",
   "metadata": {},
   "outputs": [],
   "source": [
    "with open('input.txt', 'r') as source_file:\n",
    "    with open('output.txt', 'w') as destination_file:\n",
    "        destination_file.write(source_file.read())"
   ]
  },
  {
   "cell_type": "code",
   "execution_count": null,
   "id": "f53835a7-bcbe-4784-b104-bae5f1638ef1",
   "metadata": {},
   "outputs": [],
   "source": []
  },
  {
   "cell_type": "code",
   "execution_count": null,
   "id": "555c9979-769d-4537-bb16-365606d8f3ba",
   "metadata": {},
   "outputs": [],
   "source": [
    "Exercise 3: Count Words in a File"
   ]
  },
  {
   "cell_type": "code",
   "execution_count": null,
   "id": "a8c0c8b6-baa2-4f25-9581-8fd481f65e6d",
   "metadata": {},
   "outputs": [],
   "source": [
    "with open('input.txt', 'r') as file:\n",
    "    contents = file.read()\n",
    "    word_count = len(contents.split())\n",
    "    print(f\"Total words: {word_count}\")"
   ]
  },
  {
   "cell_type": "code",
   "execution_count": null,
   "id": "402271cc-3b17-4e88-8228-f704f2fb36c2",
   "metadata": {},
   "outputs": [],
   "source": []
  },
  {
   "cell_type": "code",
   "execution_count": null,
   "id": "087cb62b-1688-476a-ad3d-fac408cd7c5c",
   "metadata": {},
   "outputs": [],
   "source": [
    "## Exercise 4: Convert String to Integer with Exception Handling"
   ]
  },
  {
   "cell_type": "code",
   "execution_count": null,
   "id": "3e5dd7d2-ce07-4e64-9b8e-907aa00d6f9b",
   "metadata": {},
   "outputs": [],
   "source": [
    "try:\n",
    "    user_input = input(\"Enter a number: \")\n",
    "    number = int(user_input)\n",
    "    print(f\"You entered: {number}\")\n",
    "except ValueError:\n",
    "    print(\"Invalid input! Please enter an integer.\")"
   ]
  },
  {
   "cell_type": "code",
   "execution_count": null,
   "id": "5bc4a262-1dea-42f2-8c23-3ca07a80117c",
   "metadata": {},
   "outputs": [],
   "source": []
  },
  {
   "cell_type": "code",
   "execution_count": null,
   "id": "510079a1-70e5-4079-9e0b-cf5a4ce252e0",
   "metadata": {},
   "outputs": [],
   "source": [
    "## Exercise 5: Validate List of Integers"
   ]
  },
  {
   "cell_type": "code",
   "execution_count": null,
   "id": "21bd3542-a53f-4423-9930-892cc7ff50a3",
   "metadata": {},
   "outputs": [],
   "source": [
    "try:\n",
    "    numbers = list(map(int, input(\"Enter integers separated by space: \").split()))\n",
    "    if any(n < 0 for n in numbers):\n",
    "        raise ValueError(\"Negative numbers are not allowed.\")\n",
    "    print(\"Valid list of integers:\", numbers)\n",
    "except ValueError as e:\n",
    "    print(\"Error:\", e)"
   ]
  },
  {
   "cell_type": "code",
   "execution_count": null,
   "id": "320bd9e2-c976-4660-b69f-ff626ee391b7",
   "metadata": {},
   "outputs": [],
   "source": []
  },
  {
   "cell_type": "code",
   "execution_count": null,
   "id": "2a93b4ef-ec9f-4331-904a-f223b00a7b50",
   "metadata": {},
   "outputs": [],
   "source": []
  },
  {
   "cell_type": "code",
   "execution_count": null,
   "id": "f70ccb03-cda0-49aa-a93d-2eccae980936",
   "metadata": {},
   "outputs": [],
   "source": []
  },
  {
   "cell_type": "code",
   "execution_count": null,
   "id": "b4883492-a9f0-490d-abd9-f9be0c61d396",
   "metadata": {},
   "outputs": [],
   "source": []
  },
  {
   "cell_type": "code",
   "execution_count": null,
   "id": "39f69470-ab84-4133-8f0d-dc3943c449bd",
   "metadata": {},
   "outputs": [],
   "source": []
  },
  {
   "cell_type": "code",
   "execution_count": null,
   "id": "f5c240cd-8949-46a9-8b26-7a2f8444f0ff",
   "metadata": {},
   "outputs": [],
   "source": []
  },
  {
   "cell_type": "code",
   "execution_count": null,
   "id": "4eb0c271-a798-4ea6-8797-24970106918b",
   "metadata": {},
   "outputs": [],
   "source": []
  },
  {
   "cell_type": "code",
   "execution_count": null,
   "id": "a1bd9f22-03d5-4c91-bf46-f6e62f89ec2e",
   "metadata": {},
   "outputs": [],
   "source": []
  }
 ],
 "metadata": {
  "kernelspec": {
   "display_name": "Python 3 (ipykernel)",
   "language": "python",
   "name": "python3"
  },
  "language_info": {
   "codemirror_mode": {
    "name": "ipython",
    "version": 3
   },
   "file_extension": ".py",
   "mimetype": "text/x-python",
   "name": "python",
   "nbconvert_exporter": "python",
   "pygments_lexer": "ipython3",
   "version": "3.12.7"
  }
 },
 "nbformat": 4,
 "nbformat_minor": 5
}
