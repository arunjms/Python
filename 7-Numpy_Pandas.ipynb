{
 "cells": [
  {
   "cell_type": "markdown",
   "id": "b2b2fe13-4426-4dc3-bc04-0f42723aac03",
   "metadata": {},
   "source": [
    "# 7-Numpy_Pandas\n"
   ]
  },
  {
   "cell_type": "code",
   "execution_count": null,
   "id": "6fa92ad9-cab5-4d83-bfce-bb176d18fa34",
   "metadata": {},
   "outputs": [],
   "source": [
    "# Exercise 1: (Score : 1) Create a numpy array containing the numbers from 1 to 10, and then reshape it to a 2x5 matrix"
   ]
  },
  {
   "cell_type": "code",
   "execution_count": 1,
   "id": "6e4dc5c5-8106-4ce9-8360-9f0c99b55466",
   "metadata": {},
   "outputs": [],
   "source": [
    "import numpy as np\n",
    "import pandas as pd"
   ]
  },
  {
   "cell_type": "code",
   "execution_count": 2,
   "id": "53ffa87d-4c12-4772-afd1-f980f6f7b07b",
   "metadata": {},
   "outputs": [
    {
     "name": "stdout",
     "output_type": "stream",
     "text": [
      "[[ 1  2  3  4  5]\n",
      " [ 6  7  8  9 10]]\n"
     ]
    }
   ],
   "source": [
    "arr1 = np.arange(1, 11).reshape(2, 5)\n",
    "print(arr1)"
   ]
  },
  {
   "cell_type": "code",
   "execution_count": null,
   "id": "fc034766-2646-402e-93fd-272262a65baa",
   "metadata": {},
   "outputs": [],
   "source": []
  },
  {
   "cell_type": "code",
   "execution_count": 3,
   "id": "874b86b4-5da5-4b41-9550-a7be2f05831b",
   "metadata": {},
   "outputs": [],
   "source": [
    "# Exercise 2: Extract elements between 5th and 15th index"
   ]
  },
  {
   "cell_type": "code",
   "execution_count": 5,
   "id": "4f7a03e3-380e-4fe7-af0e-ea5b0542c835",
   "metadata": {},
   "outputs": [
    {
     "name": "stdout",
     "output_type": "stream",
     "text": [
      "[ 6  7  8  9 10 11 12 13 14 15 16]\n"
     ]
    }
   ],
   "source": [
    "arr2 = np.arange(1, 21)\n",
    "extracted = arr2[5:16]\n",
    "print(extracted)\n"
   ]
  },
  {
   "cell_type": "code",
   "execution_count": 6,
   "id": "cfc746a9-c124-40f4-9b5d-2c639376a5f7",
   "metadata": {},
   "outputs": [],
   "source": [
    "# Exercise 3: Create and modify a Pandas Series"
   ]
  },
  {
   "cell_type": "code",
   "execution_count": 7,
   "id": "0d13418f-a802-4f39-95b5-eda2623db38f",
   "metadata": {},
   "outputs": [
    {
     "name": "stdout",
     "output_type": "stream",
     "text": [
      "apples     3\n",
      "bananas    2\n",
      "oranges    1\n",
      "pears      4\n",
      "dtype: int64\n"
     ]
    }
   ],
   "source": [
    "data = {'apples': 3, 'bananas': 2, 'oranges': 1}\n",
    "series = pd.Series(data)\n",
    "series['pears'] = 4\n",
    "print(series)\n"
   ]
  },
  {
   "cell_type": "code",
   "execution_count": 8,
   "id": "99b2e00c-d756-4afd-9a2d-e8831f256b03",
   "metadata": {},
   "outputs": [],
   "source": [
    "# Exercise 4: Create a DataFrame"
   ]
  },
  {
   "cell_type": "code",
   "execution_count": 9,
   "id": "96311d9c-1285-45fd-bde0-085f59173c71",
   "metadata": {},
   "outputs": [
    {
     "name": "stdout",
     "output_type": "stream",
     "text": [
      "      name  age gender\n",
      "0    Alice   25      F\n",
      "1      Bob   30      M\n",
      "2  Charlie   35      M\n",
      "3    David   40      M\n",
      "4      Eve   22      F\n",
      "5    Frank   27      M\n",
      "6    Grace   32      F\n",
      "7    Helen   45      F\n",
      "8      Ivy   50      F\n",
      "9     Jack   29      M\n"
     ]
    }
   ],
   "source": [
    "people = {\n",
    "    'name': ['Alice', 'Bob', 'Charlie', 'David', 'Eve', 'Frank', 'Grace', 'Helen', 'Ivy', 'Jack'],\n",
    "    'age': [25, 30, 35, 40, 22, 27, 32, 45, 50, 29],\n",
    "    'gender': ['F', 'M', 'M', 'M', 'F', 'M', 'F', 'F', 'F', 'M']\n",
    "}\n",
    "df = pd.DataFrame(people)\n",
    "print(df)\n"
   ]
  },
  {
   "cell_type": "code",
   "execution_count": 10,
   "id": "f028aff3-6e94-4b4c-b410-497b8a4fc7f3",
   "metadata": {},
   "outputs": [],
   "source": [
    "# Exercise 5: Add occupation column"
   ]
  },
  {
   "cell_type": "code",
   "execution_count": 11,
   "id": "01f42117-347f-4c05-8f6c-82464a99a88e",
   "metadata": {},
   "outputs": [
    {
     "name": "stdout",
     "output_type": "stream",
     "text": [
      "      name  age gender  occupation\n",
      "0    Alice   25      F  Programmer\n",
      "1      Bob   30      M     Manager\n",
      "2  Charlie   35      M     Analyst\n",
      "3    David   40      M  Programmer\n",
      "4      Eve   22      F     Manager\n",
      "5    Frank   27      M     Analyst\n",
      "6    Grace   32      F  Programmer\n",
      "7    Helen   45      F     Manager\n",
      "8      Ivy   50      F     Analyst\n",
      "9     Jack   29      M  Programmer\n"
     ]
    }
   ],
   "source": [
    "df['occupation'] = ['Programmer', 'Manager', 'Analyst', 'Programmer', 'Manager', 'Analyst', 'Programmer', 'Manager', 'Analyst', 'Programmer']\n",
    "print(df)"
   ]
  },
  {
   "cell_type": "code",
   "execution_count": 12,
   "id": "ec18e2f9-eb56-4a12-aee3-d20c66849291",
   "metadata": {},
   "outputs": [],
   "source": [
    "# Exercise 6: Select rows where age >= 30"
   ]
  },
  {
   "cell_type": "code",
   "execution_count": 13,
   "id": "a92aff7a-3e0e-4ad6-a649-a7b42f76c499",
   "metadata": {},
   "outputs": [
    {
     "name": "stdout",
     "output_type": "stream",
     "text": [
      "      name  age gender  occupation\n",
      "1      Bob   30      M     Manager\n",
      "2  Charlie   35      M     Analyst\n",
      "3    David   40      M  Programmer\n",
      "6    Grace   32      F  Programmer\n",
      "7    Helen   45      F     Manager\n",
      "8      Ivy   50      F     Analyst\n"
     ]
    }
   ],
   "source": [
    "filtered_df = df[df['age'] >= 30]\n",
    "print(filtered_df)"
   ]
  },
  {
   "cell_type": "code",
   "execution_count": 14,
   "id": "0e6197f9-77ea-404c-b30f-0dd130cd5d38",
   "metadata": {},
   "outputs": [],
   "source": [
    "# Exercise 7: Convert DataFrame to CSV and read it back"
   ]
  },
  {
   "cell_type": "code",
   "execution_count": 15,
   "id": "a8824b78-a1cb-4632-b9b2-f228ea966cff",
   "metadata": {},
   "outputs": [
    {
     "name": "stdout",
     "output_type": "stream",
     "text": [
      "      name  age gender  occupation\n",
      "0    Alice   25      F  Programmer\n",
      "1      Bob   30      M     Manager\n",
      "2  Charlie   35      M     Analyst\n",
      "3    David   40      M  Programmer\n",
      "4      Eve   22      F     Manager\n",
      "5    Frank   27      M     Analyst\n",
      "6    Grace   32      F  Programmer\n",
      "7    Helen   45      F     Manager\n",
      "8      Ivy   50      F     Analyst\n",
      "9     Jack   29      M  Programmer\n"
     ]
    }
   ],
   "source": [
    "df.to_csv('people.csv', index=False)\n",
    "df_read = pd.read_csv('people.csv')\n",
    "print(df_read)"
   ]
  },
  {
   "cell_type": "code",
   "execution_count": null,
   "id": "ac558544-ff44-44df-8153-eaac9e9b6a02",
   "metadata": {},
   "outputs": [],
   "source": []
  },
  {
   "cell_type": "code",
   "execution_count": null,
   "id": "561e8c02-bd46-4ada-90e5-237782b8cddd",
   "metadata": {},
   "outputs": [],
   "source": []
  },
  {
   "cell_type": "code",
   "execution_count": null,
   "id": "585034d0-1540-44c8-9d9d-5efb4dcbc6cd",
   "metadata": {},
   "outputs": [],
   "source": []
  },
  {
   "cell_type": "code",
   "execution_count": null,
   "id": "eab3937c-741e-499d-bd19-ecc1a55e40ee",
   "metadata": {},
   "outputs": [],
   "source": []
  },
  {
   "cell_type": "code",
   "execution_count": null,
   "id": "62a4fb9d-68db-441b-919a-49f8319afdb8",
   "metadata": {},
   "outputs": [],
   "source": []
  },
  {
   "cell_type": "code",
   "execution_count": null,
   "id": "df9b286b-289d-4d30-984b-29a2bde1bed8",
   "metadata": {},
   "outputs": [],
   "source": []
  },
  {
   "cell_type": "code",
   "execution_count": null,
   "id": "cc819927-75ce-4dd2-81ec-43b7d8cbd1d2",
   "metadata": {},
   "outputs": [],
   "source": []
  },
  {
   "cell_type": "code",
   "execution_count": null,
   "id": "c373f882-73af-46ab-94b3-4e15ee560575",
   "metadata": {},
   "outputs": [],
   "source": []
  }
 ],
 "metadata": {
  "kernelspec": {
   "display_name": "Python 3 (ipykernel)",
   "language": "python",
   "name": "python3"
  },
  "language_info": {
   "codemirror_mode": {
    "name": "ipython",
    "version": 3
   },
   "file_extension": ".py",
   "mimetype": "text/x-python",
   "name": "python",
   "nbconvert_exporter": "python",
   "pygments_lexer": "ipython3",
   "version": "3.12.7"
  }
 },
 "nbformat": 4,
 "nbformat_minor": 5
}
