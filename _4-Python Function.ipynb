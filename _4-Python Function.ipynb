{
 "cells": [
  {
   "cell_type": "code",
   "execution_count": null,
   "id": "56c6f5ae-62be-4b2f-b9bb-dd7de6076fe4",
   "metadata": {},
   "outputs": [],
   "source": [
    "## Exercise 1: Function with Optional Arguments\n"
   ]
  },
  {
   "cell_type": "code",
   "execution_count": 3,
   "id": "4a47edbb-33cf-4a73-80e1-87f2af8e142f",
   "metadata": {},
   "outputs": [
    {
     "name": "stdout",
     "output_type": "stream",
     "text": [
      "48\n"
     ]
    }
   ],
   "source": [
    "def calculate(a, b=10, c=None):\n",
    "    if c is None:\n",
    "        print(a + b)\n",
    "    else:\n",
    "        print(a * b * c)\n",
    "x = calculate(23,25)\n"
   ]
  },
  {
   "cell_type": "code",
   "execution_count": null,
   "id": "da20e24f-86d7-4297-9ddb-3ea985a23cc8",
   "metadata": {},
   "outputs": [],
   "source": []
  },
  {
   "cell_type": "code",
   "execution_count": null,
   "id": "8a807068-3c7a-457b-af04-3ab17db70055",
   "metadata": {},
   "outputs": [],
   "source": [
    "## Exercise 2: Filter Strings by Length\n"
   ]
  },
  {
   "cell_type": "code",
   "execution_count": 9,
   "id": "cde3942a-e1da-43ec-8394-807305535107",
   "metadata": {},
   "outputs": [
    {
     "name": "stdout",
     "output_type": "stream",
     "text": [
      "['apple', 'banana', 'elephant']\n"
     ]
    }
   ],
   "source": [
    "def filter_strings(strings):\n",
    "    return [s for s in strings if len(s) >= 5]\n",
    "words = [\"apple\", \"dog\", \"banana\", \"cat\", \"elephant\"]\n",
    "print(filter_strings(words))"
   ]
  },
  {
   "cell_type": "code",
   "execution_count": null,
   "id": "cd7b8068-8ff8-44cb-b706-9985c1453974",
   "metadata": {},
   "outputs": [],
   "source": []
  },
  {
   "cell_type": "code",
   "execution_count": null,
   "id": "373bc807-7e63-4a2f-b4bc-6d7b0d92cb93",
   "metadata": {},
   "outputs": [],
   "source": [
    "## Exercise 3: Evaluate Mathematical Expression\n"
   ]
  },
  {
   "cell_type": "code",
   "execution_count": 10,
   "id": "66b22524-c613-4781-b166-ac399b2d284e",
   "metadata": {},
   "outputs": [
    {
     "name": "stdout",
     "output_type": "stream",
     "text": [
      "17\n"
     ]
    }
   ],
   "source": [
    "def evaluate_expression(expression):\n",
    "    return eval(expression)\n",
    "expression = \"3 * 5 + 2\"\n",
    "print(evaluate_expression(expression))   "
   ]
  },
  {
   "cell_type": "code",
   "execution_count": null,
   "id": "94d1a367-1a1b-4d9d-b8a0-1718f62cfb50",
   "metadata": {},
   "outputs": [],
   "source": []
  },
  {
   "cell_type": "code",
   "execution_count": null,
   "id": "b8a6fa30-b820-43e8-b600-9dd33be51b1a",
   "metadata": {},
   "outputs": [],
   "source": [
    "## Exercise 4: Filter Prime Numbers\n"
   ]
  },
  {
   "cell_type": "code",
   "execution_count": 12,
   "id": "521722f7-a913-437d-8cf0-83f250c827d2",
   "metadata": {},
   "outputs": [
    {
     "name": "stdout",
     "output_type": "stream",
     "text": [
      "[2, 3, 5, 7, 11]\n"
     ]
    }
   ],
   "source": [
    "def is_prime(n):\n",
    "    if n < 2:\n",
    "        return False\n",
    "    for i in range(2, int(n ** 0.5) + 1):\n",
    "        if n % i == 0:\n",
    "            return False\n",
    "    return True\n",
    "\n",
    "def filter_primes(numbers):\n",
    "    return list(filter(is_prime, numbers))\n",
    "numbers = [2, 3, 4, 5, 6, 7, 8, 9, 10, 11]\n",
    "print(filter_primes(numbers)) "
   ]
  },
  {
   "cell_type": "code",
   "execution_count": null,
   "id": "a6caee53-1690-4c9f-adca-7eec32edb7ce",
   "metadata": {},
   "outputs": [],
   "source": []
  },
  {
   "cell_type": "code",
   "execution_count": null,
   "id": "b4e3bbed-ff12-4de2-b0a3-1ae3d1f6c085",
   "metadata": {},
   "outputs": [],
   "source": [
    "## Exercise 5: Convert Strings to Uppercase\n"
   ]
  },
  {
   "cell_type": "code",
   "execution_count": null,
   "id": "3c195852-bce3-4fb4-993b-ffd443d0741b",
   "metadata": {},
   "outputs": [],
   "source": [
    "def convert_to_uppercase(strings):\n",
    "    return [s.upper() for s in strings]"
   ]
  },
  {
   "cell_type": "code",
   "execution_count": null,
   "id": "6fc93637-de8c-4b5c-8330-0a94158a0e4c",
   "metadata": {},
   "outputs": [],
   "source": []
  },
  {
   "cell_type": "code",
   "execution_count": null,
   "id": "851a7f81-e553-4e32-a657-248d53f163a5",
   "metadata": {},
   "outputs": [],
   "source": []
  },
  {
   "cell_type": "code",
   "execution_count": null,
   "id": "b221a3d9-85da-47a2-8735-c8a0780e142f",
   "metadata": {},
   "outputs": [],
   "source": []
  },
  {
   "cell_type": "code",
   "execution_count": null,
   "id": "6b215509-a093-4ba6-b094-b4a8fb18b8db",
   "metadata": {},
   "outputs": [],
   "source": []
  }
 ],
 "metadata": {
  "kernelspec": {
   "display_name": "Python 3 (ipykernel)",
   "language": "python",
   "name": "python3"
  },
  "language_info": {
   "codemirror_mode": {
    "name": "ipython",
    "version": 3
   },
   "file_extension": ".py",
   "mimetype": "text/x-python",
   "name": "python",
   "nbconvert_exporter": "python",
   "pygments_lexer": "ipython3",
   "version": "3.12.7"
  }
 },
 "nbformat": 4,
 "nbformat_minor": 5
}
